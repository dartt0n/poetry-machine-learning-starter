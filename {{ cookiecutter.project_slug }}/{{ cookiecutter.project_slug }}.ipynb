{
 "cells": [
  {
   "cell_type": "markdown",
   "metadata": {
    "vscode": {
     "languageId": "plaintext"
    }
   },
   "source": [
    "# {{ cookiecutter.project_name }}\n",
    "{{ cookiecutter.project_description }}\n",
    "\n",
    "## Author\n",
    "{{ cookiecutter.author }}"
   ]
  },
  {
   "cell_type": "code",
   "execution_count": null,
   "metadata": {},
   "outputs": [],
   "source": []
  }
 ],
 "metadata": {
  "language_info": {
   "name": "python"
  }
 },
 "nbformat": 4,
 "nbformat_minor": 2
}
